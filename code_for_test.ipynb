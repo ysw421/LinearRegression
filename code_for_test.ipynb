{
 "cells": [
  {
   "cell_type": "markdown",
   "metadata": {},
   "source": [
    "# 시각화 및 정확도 측정\n",
    "\n",
    "목차\n",
    "1. [모듈 불러오기](#1-모듈-불러오기)\n",
    "2. [학습 데이터 추가](#2-학습-데이터-추가)\n",
    "3. [결과물 출력](#3-결과물-출력)\n",
    "4. [시각화 출력](#4-시각화-출력)\n",
    "5. [정확도 측정](#5-정확도-측정)"
   ]
  },
  {
   "cell_type": "markdown",
   "metadata": {},
   "source": [
    "#### 1. 모듈 불러오기"
   ]
  },
  {
   "cell_type": "code",
   "execution_count": 1,
   "metadata": {},
   "outputs": [],
   "source": [
    "import numpy as np\n",
    "import matplotlib.pyplot as plt\n",
    "from sklearn.linear_model import LinearRegression\n",
    "import time"
   ]
  },
  {
   "cell_type": "markdown",
   "metadata": {},
   "source": [
    "#### 2. 학습 데이터 추가"
   ]
  },
  {
   "cell_type": "code",
   "execution_count": 2,
   "metadata": {},
   "outputs": [],
   "source": [
    "VARIABLE_NUM = 6\n",
    "VARIABLE_X = [6, 16, 26, 36, 46, 56]\n",
    "VARIABLE_Y = [35, 22, 23, 12, 10, 4]\n",
    "\n",
    "\n",
    "# VARIABLE_X = [6, 16, 26, 36, 46, 56]\n",
    "# VARIABLE_Y = [-35, -22, -23, -12, -10, -4]\n",
    "\n",
    "# VARIABLE_X = [ 6, 50, 55, 77, 10, 34, 93,  3, 24, 93, 36, 70, 55, 64, 66, 68, 88,\n",
    "#         9, 75, 79, 89, 72, 33, 17, 31, 64,  6, 13,  9, 48, 90, 78, 24, 37,\n",
    "#        78, 91,  7, 36, 23, 54, 15, 30, 19, 21, 55,  1, 22, 99, 95, 56, 62,\n",
    "#        68, 57, 16, 12, 40, 73, 55, 56, 69, 26, 34, 33, 50, 49, 88, 81, 76,\n",
    "#        82, 63, 72, 80, 21, 43, 71, 43, 59, 83, 67, 82, 37,  2,  4, 37, 94,\n",
    "#        70,  3, 33, 26, 23, 11, 20, 75,  0, 19, 16, 21, 36, 10,  8]\n",
    "# VARIABLE_Y = [80, 59, 53, 29, 62, 51,  8, 26, 29, 64, 68, 76, 27,  2,  3, 98, 18,\n",
    "#        71,  7, 33, 16, 76, 32, 71, 94, 52, 82, 55, 14, 91, 17, 33, 29, 15,\n",
    "#        88, 15, 75, 18, 81, 41,  2, 56, 92, 17, 36, 49, 12, 91, 40,  5, 47,\n",
    "#        11, 45,  5, 71, 54, 40, 60, 31,  2, 76, 84, 43, 73, 61, 80, 69, 98,\n",
    "#         9, 61, 73, 38, 26, 81, 91, 95, 52, 18, 98, 11,  3, 20, 36, 44, 70,\n",
    "#        54, 27, 69, 85, 68, 30, 29, 61, 81, 40, 80, 40,  0, 16, 37]"
   ]
  },
  {
   "cell_type": "markdown",
   "metadata": {},
   "source": [
    "#### 3. 결과물 출력"
   ]
  },
  {
   "cell_type": "code",
   "execution_count": 3,
   "metadata": {},
   "outputs": [
    {
     "name": "stdout",
     "output_type": "stream",
     "text": [
      "-0.0004405975341796875\n",
      "-20.92864990234375\n"
     ]
    }
   ],
   "source": [
    "# result = {'v0': 0, 'v1': 0, 'v10': 1, 'v11': 0, 'v12': 1, 'v13': 0,\n",
    "#  'v14': 1, 'v15': 1, 'v16': 0, 'v17': 0, 'v18': 1, 'v19': 0, 'v2': 0,\n",
    "#  'v20': 1, 'v21': 1, 'v22': 0, 'v23': 0, 'v24': 1, 'v25': 1, 'v26': 0,\n",
    "#  'v27': 0, 'v28': 0, 'v29': 0, 'v3': 0, 'v30': 0, 'v31': 1, 'v32': 1,\n",
    "#  'v33': 1, 'v34': 0, 'v35': 1, 'v36': 1, 'v37': 1, 'v38': 1, 'v39': 1,\n",
    "#  'v4': 0, 'v40': 1, 'v41': 0, 'v42': 1, 'v43': 1, 'v44': 0, 'v45': 1,\n",
    "#  'v46': 0, 'v47': 1, 'v48': 1, 'v49': 0, 'v5': 0, 'v50': 0, 'v51': 1,\n",
    "#  'v6': 0, 'v7': 0, 'v8': 1, 'v9': 1}\n",
    "result = {'v0': 0,\n",
    " 'v1': 0,\n",
    " 'v10': 0,\n",
    " 'v11': 0,\n",
    " 'v12': 0,\n",
    " 'v13': 0,\n",
    " 'v14': 0,\n",
    " 'v15': 0,\n",
    " 'v16': 0,\n",
    " 'v17': 0,\n",
    " 'v18': 1,\n",
    " 'v19': 1,\n",
    " 'v2': 0,\n",
    " 'v20': 1,\n",
    " 'v21': 0,\n",
    " 'v22': 0,\n",
    " 'v23': 1,\n",
    " 'v24': 1,\n",
    " 'v25': 1,\n",
    " 'v26': 0,\n",
    " 'v27': 0,\n",
    " 'v28': 1,\n",
    " 'v29': 0,\n",
    " 'v3': 0,\n",
    " 'v30': 1,\n",
    " 'v31': 0,\n",
    " 'v32': 0,\n",
    " 'v33': 1,\n",
    " 'v34': 1,\n",
    " 'v35': 1,\n",
    " 'v36': 0,\n",
    " 'v37': 1,\n",
    " 'v38': 1,\n",
    " 'v39': 0,\n",
    " 'v4': 0,\n",
    " 'v40': 1,\n",
    " 'v41': 1,\n",
    " 'v42': 0,\n",
    " 'v43': 1,\n",
    " 'v44': 1,\n",
    " 'v45': 1,\n",
    " 'v46': 1,\n",
    " 'v47': 0,\n",
    " 'v48': 0,\n",
    " 'v49': 0,\n",
    " 'v5': 0,\n",
    " 'v50': 0,\n",
    " 'v51': 0,\n",
    " 'v6': 0,\n",
    " 'v7': 0,\n",
    " 'v8': 0,\n",
    " 'v9': 0}\n",
    "\n",
    "a = 0\n",
    "for i in range(25):\n",
    "    a += result['v' + str(1 + i)] * 2 ** (5 - i)\n",
    "a *= (2 * result['v0'] - 1)\n",
    "print(a)\n",
    "\n",
    "b = 0\n",
    "for i in range(25):\n",
    "    b += result['v' + str(1 + i + 26)] * 2 ** (5 - i)\n",
    "b *= (2 * result['v26'] - 1)\n",
    "print(b)\n",
    "\n",
    "a_quantum = a\n",
    "b_qunatum = b"
   ]
  },
  {
   "cell_type": "markdown",
   "metadata": {},
   "source": [
    "#### 4. 시각화 출력\n",
    "###### sklearn 모듈 Linear Regression"
   ]
  },
  {
   "cell_type": "code",
   "execution_count": 4,
   "metadata": {},
   "outputs": [
    {
     "name": "stdout",
     "output_type": "stream",
     "text": [
      "time 0.0056302547454833984\n",
      "a: [0.57714286]\n",
      "b: -35.55809523809524\n"
     ]
    },
    {
     "data": {
      "image/png": "[encoded data removed]",
      "text/plain": [
       "<Figure size 640x480 with 1 Axes>"
      ]
     },
     "metadata": {},
     "output_type": "display_data"
    }
   ],
   "source": [
    "x = np.array(VARIABLE_X).reshape((-1, 1))\n",
    "y = np.array(VARIABLE_Y)\n",
    "\n",
    "start_time = time.time()\n",
    "model = LinearRegression().fit(x, y) \n",
    "end_time = time.time() - start_time\n",
    "print('time', end_time)\n",
    "\n",
    "r_sq = model.score(x, y)\n",
    "\n",
    "print('a:', model.coef_) \n",
    "print('b:', model.intercept_)\n",
    "\n",
    "y_pred = model.predict(x)\n",
    "plt.plot(x,y, 'o')\n",
    "plt.plot(x, x * model.coef_ + model.intercept_)\n",
    "plt.show()\n",
    "\n",
    "a_sklearn = model.coef_\n",
    "b_sklearn = model.intercept_"
   ]
  },
  {
   "cell_type": "markdown",
   "metadata": {},
   "source": [
    "###### 양자 어닐링 기법을 활용한"
   ]
  },
  {
   "cell_type": "code",
   "execution_count": 5,
   "metadata": {},
   "outputs": [
    {
     "data": {
      "image/png": "[encoded data removed]",
      "text/plain": [
       "<Figure size 640x480 with 1 Axes>"
      ]
     },
     "metadata": {},
     "output_type": "display_data"
    }
   ],
   "source": [
    "x = np.array(VARIABLE_X)\n",
    "plt.plot(VARIABLE_X, VARIABLE_Y, 'ro')\n",
    "plt.plot(x, a_quantum*x + b_qunatum)\n",
    "plt.show()"
   ]
  },
  {
   "cell_type": "markdown",
   "metadata": {},
   "source": [
    "#### 5. 정확도 측정\n",
    "###### sklearn 모듈 Linear Regression"
   ]
  },
  {
   "cell_type": "code",
   "execution_count": 6,
   "metadata": {},
   "outputs": [
    {
     "name": "stdout",
     "output_type": "stream",
     "text": [
      "[30387.49433469]\n"
     ]
    }
   ],
   "source": [
    "cost = 0\n",
    "a = a_sklearn\n",
    "b = b_sklearn\n",
    "for i in range(VARIABLE_NUM):\n",
    "    cost += (VARIABLE_Y[i] - VARIABLE_X[i] * a + b) ** 2\n",
    "print(cost)"
   ]
  },
  {
   "cell_type": "markdown",
   "metadata": {},
   "source": [
    "###### 양자 어닐링 기법을 활용한"
   ]
  },
  {
   "cell_type": "code",
   "execution_count": 7,
   "metadata": {},
   "outputs": [
    {
     "name": "stdout",
     "output_type": "stream",
     "text": [
      "[39944.98403998]\n"
     ]
    }
   ],
   "source": [
    "sum = 0\n",
    "a = a_quantum\n",
    "b = b_qunatum\n",
    "for i in range(VARIABLE_NUM):\n",
    "    cost += (VARIABLE_Y[i] - VARIABLE_X[i] * a + b) ** 2\n",
    "print(cost)"
   ]
  }
 ],
 "metadata": {
  "kernelspec": {
   "display_name": "Python 3.9.13 64-bit (microsoft store)",
   "language": "python",
   "name": "python3"
  },
  "language_info": {
   "codemirror_mode": {
    "name": "ipython",
    "version": 3
   },
   "file_extension": ".py",
   "mimetype": "text/x-python",
   "name": "python",
   "nbconvert_exporter": "python",
   "pygments_lexer": "ipython3",
   "version": "3.9.13"
  },
  "orig_nbformat": 4,
  "vscode": {
   "interpreter": {
    "hash": "9b98a87dd607c3a7d80d70b3bdd894d37a0ef4e022495662564cc7510ac502c0"
   }
  }
 },
 "nbformat": 4,
 "nbformat_minor": 2
}
